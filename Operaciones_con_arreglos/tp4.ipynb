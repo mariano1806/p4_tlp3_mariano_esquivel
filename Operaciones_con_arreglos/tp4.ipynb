{
 "cells": [
  {
   "cell_type": "markdown",
   "id": "3e4771e8",
   "metadata": {},
   "source": [
    "# Trabajo Practico n4 - Introduccion a numpy.\n",
    "## Criterios de evaluación.\n",
    "\n",
    "* Se deben utilizar nombres de variables descriptivos y claros (Utilizar la nomeclatura correspondiente para los nombres de variables).\n",
    "* Comentarios claros y concisos que expliquen el propósito de cada sección del código.\n",
    "* Utilizar mensajes de commit **descriptivos**. (Puedes utilizar la extension CONVENTIONAL COMMIT de VS-CODE). \n",
    "* Entrega en tiempo y forma.\n",
    "* Todo el código desarrollado debe ser subido a un repositorio en GitHub (el nombre del repositorio de seguir la siguiente estructura: tp4_tlp3_nombre_apellido).\n",
    "* Para resolver las actividades se debe insertar casillas de codigo entre cada actividad del cuaderno de Jupyter\n",
    "\n",
    "### ¡Importante!\n",
    "**El incumplimiento de los criterios de evaluación restará puntos en la nota final del práctico!**"
   ]
  },
  {
   "cell_type": "markdown",
   "id": "6f3340d9",
   "metadata": {},
   "source": [
    "**Importaciones:**"
   ]
  },
  {
   "cell_type": "code",
   "execution_count": 2,
   "id": "783ab170",
   "metadata": {},
   "outputs": [],
   "source": [
    "import numpy as np\n",
    "from random import randint"
   ]
  },
  {
   "cell_type": "markdown",
   "id": "c5ba7292",
   "metadata": {},
   "source": [
    "**Actividad 1:**: Crea un array de NumPy que contenga los números del 0 al 9. (Debes utilizar un metodo de numpy para su creacion.)"
   ]
  },
  {
   "cell_type": "code",
   "execution_count": 8,
   "id": "75029034",
   "metadata": {},
   "outputs": [
    {
     "name": "stdout",
     "output_type": "stream",
     "text": [
      "[0 1 2 3 4 5 6 7 8 9]\n"
     ]
    }
   ],
   "source": [
    "#todo: \n",
    "# lista = [0, 1, 2, 3, 4, 5, 6, 7, 8, 9]\n",
    "# array = np.array(lista)\n",
    "# print(array)\n",
    "\n",
    "array = np.arange(10)\n",
    "print(array)"
   ]
  },
  {
   "cell_type": "markdown",
   "id": "cb894927",
   "metadata": {},
   "source": [
    "**Actividad 2:** Crea un array de 5 ceros, y luego cambia el tercer elemento (índice 2) para que sea 5. (Debes utilizar un metodo de numpy para su creacion.)"
   ]
  },
  {
   "cell_type": "code",
   "execution_count": null,
   "id": "b9cd04a0",
   "metadata": {},
   "outputs": [
    {
     "name": "stdout",
     "output_type": "stream",
     "text": [
      "[0 0 0 0 0]\n",
      "[0 0 5 0 0]\n"
     ]
    }
   ],
   "source": [
    "#todo:\n",
    "array = np.zeros((5),int)\n",
    "print(array)\n",
    "\n",
    "array[2] = 5\n",
    "print(array)"
   ]
  },
  {
   "cell_type": "markdown",
   "id": "000352a3",
   "metadata": {},
   "source": [
    "**Actividad 3:** Genera una matriz 3x3 de números aleatorios entre 0 y 1."
   ]
  },
  {
   "cell_type": "code",
   "execution_count": 13,
   "id": "e74354c9",
   "metadata": {},
   "outputs": [
    {
     "name": "stdout",
     "output_type": "stream",
     "text": [
      "[[0.73706532 0.99417661 0.49521493]\n",
      " [0.89746901 0.95437066 0.45838524]\n",
      " [0.36222006 0.09175482 0.64391088]]\n"
     ]
    }
   ],
   "source": [
    "#todo: \n",
    "matriz = np.random.rand(3,3)\n",
    "print(matriz)"
   ]
  },
  {
   "cell_type": "markdown",
   "id": "6611aaf8",
   "metadata": {},
   "source": [
    "**Actividad 4:** Dado el siguiente array `arr = np.array([10, 20, 30, 40, 50])`\n",
    "1. Suma 5 a cada elemento.\n",
    "2. Multiplica todo por un numero aleatorio (utiliza el modulo random para generarlo.)"
   ]
  },
  {
   "cell_type": "code",
   "execution_count": 19,
   "id": "ed416e11",
   "metadata": {},
   "outputs": [
    {
     "name": "stdout",
     "output_type": "stream",
     "text": [
      "Array luego de sumar 5: [15 25 35 45 55]\n",
      "Número aleatorio: 75\n",
      "Resultado final: [1125 1875 2625 3375 4125]\n"
     ]
    }
   ],
   "source": [
    "#todo:\n",
    "# arr = np.array([10, 20, 30, 40, 50])\n",
    "# arr1 = np.array([5, 5, 5, 5, 5])\n",
    "\n",
    "# suma = np.add(arr, arr1)\n",
    "# print(\"El resultado de la suma es: \",suma)\n",
    "\n",
    "# numero_aleaotrio = randint(0, 100)\n",
    "# print(\"El numero aleatorio es: \",numero_aleaotrio)\n",
    "\n",
    "# multiplicacion = np.multiply(suma, numero_aleaotrio)\n",
    "# print(\"El resultado de la multiplicacion es: \",multiplicacion)\n",
    "\n",
    "arr = np.array([10, 20, 30, 40, 50])\n",
    "\n",
    "arr_suma = arr + 5\n",
    "print(\"Array luego de sumar 5:\", arr_suma)\n",
    "\n",
    "numero_aleatorio = randint(1, 100)\n",
    "print(\"Número aleatorio:\", numero_aleatorio)\n",
    "\n",
    "multiplicado = arr_suma * numero_aleatorio\n",
    "print(\"Resultado final:\",  multiplicado)"
   ]
  },
  {
   "cell_type": "markdown",
   "id": "fbd05c4d",
   "metadata": {},
   "source": [
    "**Actividad 5:** Crea una matriz identidad de tamaño 4x4 (unos en la diagonal principal y ceros en el resto)."
   ]
  },
  {
   "cell_type": "code",
   "execution_count": 22,
   "id": "6811c19f",
   "metadata": {},
   "outputs": [
    {
     "name": "stdout",
     "output_type": "stream",
     "text": [
      "[[1. 0. 0. 0.]\n",
      " [0. 1. 0. 0.]\n",
      " [0. 0. 1. 0.]\n",
      " [0. 0. 0. 1.]]\n"
     ]
    }
   ],
   "source": [
    "#todo:\n",
    "print(np.eye(4))\n",
    "\n",
    "# print(np.eye(4,k=0))\n",
    "\n",
    "# print(np.eye(4,4,k=0))"
   ]
  },
  {
   "cell_type": "markdown",
   "id": "3ec18459",
   "metadata": {},
   "source": [
    "**Actividad 6:** Crea un array que comience en 0 hasta el 20, pero que solo tenga numeros pares yu luego realiza las 4 operaciones basicas. (suma, resta, multiplicacion, division)."
   ]
  },
  {
   "cell_type": "code",
   "execution_count": 43,
   "id": "f0c02872",
   "metadata": {},
   "outputs": [
    {
     "name": "stdout",
     "output_type": "stream",
     "text": [
      "[ 0  2  4  6  8 10 12 14 16 18 20]\n",
      "[0.33722167 0.34016132 0.80296324 0.45277793 0.634037   0.54176569\n",
      " 0.2822018  0.25694633 0.01409044 0.00722172 0.32358702]\n",
      "[ 0.33722167  2.34016132  4.80296324  6.45277793  8.634037   10.54176569\n",
      " 12.2822018  14.25694633 16.01409044 18.00722172 20.32358702]\n",
      "[-0.33722167  1.65983868  3.19703676  5.54722207  7.365963    9.45823431\n",
      " 11.7177982  13.74305367 15.98590956 17.99277828 19.67641298]\n",
      "[0.         0.68032264 3.21185294 2.7166676  5.07229597 5.41765693\n",
      " 3.38642161 3.59724868 0.22544706 0.12999097 6.47174047]\n",
      "[   0.            5.87956326    4.98154812   13.25152917   12.61756024\n",
      "   18.45816399   42.5227619    54.48608575 1135.5215683  2492.48080254\n",
      "   61.80717561]\n"
     ]
    }
   ],
   "source": [
    "#todo: \n",
    "array = np.arange(0,21,2)\n",
    "otro_array = np.random.rand(array.size)\n",
    "print(array)\n",
    "print(otro_array)\n",
    "\n",
    "suma = np.add(array, otro_array)\n",
    "resta = np.subtract(array, otro_array)\n",
    "multiplicacion = np.multiply(array, otro_array)\n",
    "division = np.divide(array, otro_array)\n",
    "\n",
    "print(suma)\n",
    "print(resta)\n",
    "print(multiplicacion)\n",
    "print(division)\n"
   ]
  }
 ],
 "metadata": {
  "kernelspec": {
   "display_name": "Python 3",
   "language": "python",
   "name": "python3"
  },
  "language_info": {
   "codemirror_mode": {
    "name": "ipython",
    "version": 3
   },
   "file_extension": ".py",
   "mimetype": "text/x-python",
   "name": "python",
   "nbconvert_exporter": "python",
   "pygments_lexer": "ipython3",
   "version": "3.13.2"
  }
 },
 "nbformat": 4,
 "nbformat_minor": 5
}
